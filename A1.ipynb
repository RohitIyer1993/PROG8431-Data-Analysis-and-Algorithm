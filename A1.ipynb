{
 "cells": [
  {
   "cell_type": "code",
   "execution_count": null,
   "id": "bfd1fd0b",
   "metadata": {},
   "outputs": [],
   "source": [
    "# Demo Code\n",
    "print(\"Hello Python\")"
   ]
  },
  {
   "cell_type": "markdown",
   "id": "36d0e215",
   "metadata": {},
   "source": [
    "## Hello Jupyter\n",
    "### By Rohit Iyer\n"
   ]
  },
  {
   "cell_type": "markdown",
   "id": "414ed51f",
   "metadata": {},
   "source": []
  }
 ],
 "metadata": {
  "language_info": {
   "name": "python"
  }
 },
 "nbformat": 4,
 "nbformat_minor": 5
}
